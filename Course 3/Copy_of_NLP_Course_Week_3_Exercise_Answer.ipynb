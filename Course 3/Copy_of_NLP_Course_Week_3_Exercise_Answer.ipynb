{
  "nbformat": 4,
  "nbformat_minor": 0,
  "metadata": {
    "accelerator": "GPU",
    "colab": {
      "name": "Copy of NLP Course - Week 3 Exercise Answer.ipynb",
      "provenance": [],
      "toc_visible": true,
      "include_colab_link": true
    },
    "kernelspec": {
      "display_name": "Python 3",
      "language": "python",
      "name": "python3"
    },
    "language_info": {
      "codemirror_mode": {
        "name": "ipython",
        "version": 3
      },
      "file_extension": ".py",
      "mimetype": "text/x-python",
      "name": "python",
      "nbconvert_exporter": "python",
      "pygments_lexer": "ipython3",
      "version": "3.7.6"
    }
  },
  "cells": [
    {
      "cell_type": "markdown",
      "metadata": {
        "id": "view-in-github",
        "colab_type": "text"
      },
      "source": [
        "<a href=\"https://colab.research.google.com/github/chattyy/DeepLearning.AI-TensorFlow-Developer/blob/master/Course%203/Copy_of_NLP_Course_Week_3_Exercise_Answer.ipynb\" target=\"_parent\"><img src=\"https://colab.research.google.com/assets/colab-badge.svg\" alt=\"Open In Colab\"/></a>"
      ]
    },
    {
      "cell_type": "code",
      "metadata": {
        "colab_type": "code",
        "id": "zX4Kg8DUTKWO",
        "colab": {}
      },
      "source": [
        "#@title Licensed under the Apache License, Version 2.0 (the \"License\");\n",
        "# you may not use this file except in compliance with the License.\n",
        "# You may obtain a copy of the License at\n",
        "#\n",
        "# https://www.apache.org/licenses/LICENSE-2.0\n",
        "#\n",
        "# Unless required by applicable law or agreed to in writing, software\n",
        "# distributed under the License is distributed on an \"AS IS\" BASIS,\n",
        "# WITHOUT WARRANTIES OR CONDITIONS OF ANY KIND, either express or implied.\n",
        "# See the License for the specific language governing permissions and\n",
        "# limitations under the License."
      ],
      "execution_count": null,
      "outputs": []
    },
    {
      "cell_type": "markdown",
      "metadata": {
        "id": "QhfTz5sXkdG8",
        "colab_type": "text"
      },
      "source": [
        "<a href=\"https://colab.research.google.com/github/lmoroney/dlaicourse/blob/master/TensorFlow%20In%20Practice/Course%203%20-%20NLP/NLP%20Course%20-%20Week%203%20Exercise%20Answer.ipynb\" target=\"_parent\"><img src=\"https://colab.research.google.com/assets/colab-badge.svg\" alt=\"Open In Colab\"/></a>"
      ]
    },
    {
      "cell_type": "code",
      "metadata": {
        "colab_type": "code",
        "id": "hmA6EzkQJ5jt",
        "colab": {}
      },
      "source": [
        "import json\n",
        "import tensorflow as tf\n",
        "import csv\n",
        "import random\n",
        "import numpy as np\n",
        "\n",
        "from tensorflow.keras.preprocessing.text import Tokenizer\n",
        "from tensorflow.keras.preprocessing.sequence import pad_sequences\n",
        "from tensorflow.keras.utils import to_categorical\n",
        "from tensorflow.keras import regularizers\n",
        "\n",
        "\n",
        "embedding_dim = 100\n",
        "max_length = 16\n",
        "trunc_type='post'\n",
        "padding_type='post'\n",
        "oov_tok = \"<OOV>\"\n",
        "training_size=140000\n",
        "test_portion=.1\n",
        "\n",
        "corpus = []\n"
      ],
      "execution_count": null,
      "outputs": []
    },
    {
      "cell_type": "code",
      "metadata": {
        "colab_type": "code",
        "id": "bM0l_dORKqE0",
        "colab": {
          "base_uri": "https://localhost:8080/",
          "height": 204
        },
        "outputId": "d72ec098-a51e-4b5d-f343-d4402a878c83"
      },
      "source": [
        "# Note that I cleaned the Stanford dataset to remove LATIN1 encoding to make it easier for Python CSV reader\n",
        "# You can do that yourself with:\n",
        "# iconv -f LATIN1 -t UTF8 training.1600000.processed.noemoticon.csv -o training_cleaned.csv\n",
        "# I then hosted it on my site to make it easier to use in this notebook\n",
        "\n",
        "!wget --no-check-certificate \\\n",
        "    https://storage.googleapis.com/laurencemoroney-blog.appspot.com/training_cleaned.csv \\\n",
        "    -O /tmp/training_cleaned.csv\n",
        "\n",
        "num_sentences = 0\n",
        "\n",
        "with open(\"/tmp/training_cleaned.csv\") as csvfile:\n",
        "    reader = csv.reader(csvfile, delimiter=',')\n",
        "    for row in reader:\n",
        "        list_item=[]\n",
        "        list_item.append(row[5])\n",
        "        this_label=row[0]\n",
        "        if this_label=='0':\n",
        "            list_item.append(0)\n",
        "        else:\n",
        "            list_item.append(1)\n",
        "        num_sentences = num_sentences + 1\n",
        "        corpus.append(list_item)\n"
      ],
      "execution_count": null,
      "outputs": [
        {
          "output_type": "stream",
          "text": [
            "--2020-09-15 07:02:17--  https://storage.googleapis.com/laurencemoroney-blog.appspot.com/training_cleaned.csv\n",
            "Resolving storage.googleapis.com (storage.googleapis.com)... 74.125.20.128, 74.125.142.128, 74.125.195.128, ...\n",
            "Connecting to storage.googleapis.com (storage.googleapis.com)|74.125.20.128|:443... connected.\n",
            "HTTP request sent, awaiting response... 200 OK\n",
            "Length: 238942690 (228M) [application/octet-stream]\n",
            "Saving to: ‘/tmp/training_cleaned.csv’\n",
            "\n",
            "/tmp/training_clean 100%[===================>] 227.87M   181MB/s    in 1.3s    \n",
            "\n",
            "2020-09-15 07:02:18 (181 MB/s) - ‘/tmp/training_cleaned.csv’ saved [238942690/238942690]\n",
            "\n"
          ],
          "name": "stdout"
        }
      ]
    },
    {
      "cell_type": "code",
      "metadata": {
        "colab_type": "code",
        "id": "3kxblBUjEUX-",
        "colab": {
          "base_uri": "https://localhost:8080/",
          "height": 68
        },
        "outputId": "fe2dc262-7fdd-47fd-ed1b-7fa6daac0e9f"
      },
      "source": [
        "print(num_sentences)\n",
        "print(len(corpus))\n",
        "print(corpus[1])\n",
        "\n",
        "# Expected Output:\n",
        "# 1600000\n",
        "# 1600000\n",
        "# [\"is upset that he can't update his Facebook by texting it... and might cry as a result  School today also. Blah!\", 0]"
      ],
      "execution_count": null,
      "outputs": [
        {
          "output_type": "stream",
          "text": [
            "1600000\n",
            "1600000\n",
            "[\"is upset that he can't update his Facebook by texting it... and might cry as a result  School today also. Blah!\", 0]\n"
          ],
          "name": "stdout"
        }
      ]
    },
    {
      "cell_type": "code",
      "metadata": {
        "colab_type": "code",
        "id": "ohOGz24lsNAD",
        "colab": {}
      },
      "source": [
        "sentences=[]\n",
        "labels=[]\n",
        "random.shuffle(corpus)\n",
        "for x in range(training_size):\n",
        "    sentences.append(corpus[x][0])\n",
        "    labels.append(corpus[x][1])\n",
        "\n",
        "\n",
        "tokenizer = Tokenizer()\n",
        "tokenizer.fit_on_texts(sentences)\n",
        "\n",
        "word_index = tokenizer.word_index\n",
        "vocab_size=len(word_index)\n",
        "\n",
        "sequences = tokenizer.texts_to_sequences(sentences)\n",
        "padded = pad_sequences(sequences, maxlen=max_length, padding=padding_type, truncating=trunc_type)\n",
        "\n",
        "split = int(test_portion * training_size)\n",
        "\n",
        "test_sequences = padded[0:split]\n",
        "training_sequences = padded[split:training_size]\n",
        "test_labels = labels[0:split]\n",
        "training_labels = labels[split:training_size]"
      ],
      "execution_count": null,
      "outputs": []
    },
    {
      "cell_type": "code",
      "metadata": {
        "colab_type": "code",
        "id": "gIrtRem1En3N",
        "colab": {
          "base_uri": "https://localhost:8080/",
          "height": 51
        },
        "outputId": "b5e603b2-99ce-4fa4-bf1e-9dbec6d5d2ae"
      },
      "source": [
        "print(vocab_size)\n",
        "print(word_index['i'])\n",
        "# Expected Output\n",
        "# 138858\n",
        "# 1"
      ],
      "execution_count": null,
      "outputs": [
        {
          "output_type": "stream",
          "text": [
            "138494\n",
            "1\n"
          ],
          "name": "stdout"
        }
      ]
    },
    {
      "cell_type": "code",
      "metadata": {
        "colab_type": "code",
        "id": "C1zdgJkusRh0",
        "colab": {
          "base_uri": "https://localhost:8080/",
          "height": 204
        },
        "outputId": "d347ffc5-fcfe-4a16-c074-4da17d3b467f"
      },
      "source": [
        "# Note this is the 100 dimension version of GloVe from Stanford\n",
        "# I unzipped and hosted it on my site to make this notebook easier\n",
        "!wget --no-check-certificate \\\n",
        "    https://storage.googleapis.com/laurencemoroney-blog.appspot.com/glove.6B.100d.txt \\\n",
        "    -O /tmp/glove.6B.100d.txt\n",
        "embeddings_index = {};\n",
        "with open('/tmp/glove.6B.100d.txt') as f:\n",
        "    for line in f:\n",
        "        values = line.split();\n",
        "        word = values[0];\n",
        "        coefs = np.asarray(values[1:], dtype='float32');\n",
        "        embeddings_index[word] = coefs;\n",
        "\n",
        "embeddings_matrix = np.zeros((vocab_size+1, embedding_dim));\n",
        "for word, i in word_index.items():\n",
        "    embedding_vector = embeddings_index.get(word);\n",
        "    if embedding_vector is not None:\n",
        "        embeddings_matrix[i] = embedding_vector;"
      ],
      "execution_count": null,
      "outputs": [
        {
          "output_type": "stream",
          "text": [
            "--2020-09-15 07:02:29--  https://storage.googleapis.com/laurencemoroney-blog.appspot.com/glove.6B.100d.txt\n",
            "Resolving storage.googleapis.com (storage.googleapis.com)... 74.125.197.128, 74.125.142.128, 74.125.195.128, ...\n",
            "Connecting to storage.googleapis.com (storage.googleapis.com)|74.125.197.128|:443... connected.\n",
            "HTTP request sent, awaiting response... 200 OK\n",
            "Length: 347116733 (331M) [text/plain]\n",
            "Saving to: ‘/tmp/glove.6B.100d.txt’\n",
            "\n",
            "/tmp/glove.6B.100d. 100%[===================>] 331.04M   141MB/s    in 2.3s    \n",
            "\n",
            "2020-09-15 07:02:32 (141 MB/s) - ‘/tmp/glove.6B.100d.txt’ saved [347116733/347116733]\n",
            "\n"
          ],
          "name": "stdout"
        }
      ]
    },
    {
      "cell_type": "code",
      "metadata": {
        "colab_type": "code",
        "id": "71NLk_lpFLNt",
        "colab": {
          "base_uri": "https://localhost:8080/",
          "height": 34
        },
        "outputId": "1f750fe7-6e10-4075-ba32-c33de0752888"
      },
      "source": [
        "print(len(embeddings_matrix))\n",
        "# Expected Output\n",
        "# 138859"
      ],
      "execution_count": null,
      "outputs": [
        {
          "output_type": "stream",
          "text": [
            "138495\n"
          ],
          "name": "stdout"
        }
      ]
    },
    {
      "cell_type": "code",
      "metadata": {
        "colab_type": "code",
        "id": "iKKvbuEBOGFz",
        "colab": {
          "base_uri": "https://localhost:8080/",
          "height": 1000
        },
        "outputId": "83b43aa0-e7cc-45ba-83e2-9509aa1510a9"
      },
      "source": [
        "model = tf.keras.Sequential([\n",
        "    tf.keras.layers.Embedding(vocab_size+1, embedding_dim, input_length=max_length, weights=[embeddings_matrix], trainable=False),\n",
        "    tf.keras.layers.Dropout(0.2),\n",
        "    tf.keras.layers.Conv1D(64, 5, activation='relu'),\n",
        "    tf.keras.layers.MaxPooling1D(pool_size=4),\n",
        "    tf.keras.layers.LSTM(64),\n",
        "    tf.keras.layers.Dense(512, activation='sigmoid'),\n",
        "    tf.keras.layers.Dense(1, activation='sigmoid')\n",
        "])\n",
        "model.compile(loss='binary_crossentropy',optimizer='adam',metrics=['accuracy'])\n",
        "model.summary()\n",
        "\n",
        "num_epochs = 50\n",
        "\n",
        "training_padded = np.array(training_sequences)\n",
        "training_labels = np.array(training_labels)\n",
        "testing_padded = np.array(test_sequences)\n",
        "testing_labels = np.array(test_labels)\n",
        "\n",
        "history = model.fit(training_padded, training_labels, epochs=num_epochs, validation_data=(testing_padded, testing_labels), verbose=2)\n",
        "\n",
        "print(\"Training Complete\")"
      ],
      "execution_count": null,
      "outputs": [
        {
          "output_type": "stream",
          "text": [
            "Model: \"sequential_1\"\n",
            "_________________________________________________________________\n",
            "Layer (type)                 Output Shape              Param #   \n",
            "=================================================================\n",
            "embedding_1 (Embedding)      (None, 16, 100)           13849500  \n",
            "_________________________________________________________________\n",
            "dropout_1 (Dropout)          (None, 16, 100)           0         \n",
            "_________________________________________________________________\n",
            "conv1d_1 (Conv1D)            (None, 12, 64)            32064     \n",
            "_________________________________________________________________\n",
            "max_pooling1d_1 (MaxPooling1 (None, 3, 64)             0         \n",
            "_________________________________________________________________\n",
            "lstm_1 (LSTM)                (None, 64)                33024     \n",
            "_________________________________________________________________\n",
            "dense_1 (Dense)              (None, 512)               33280     \n",
            "_________________________________________________________________\n",
            "dense_2 (Dense)              (None, 1)                 513       \n",
            "=================================================================\n",
            "Total params: 13,948,381\n",
            "Trainable params: 98,881\n",
            "Non-trainable params: 13,849,500\n",
            "_________________________________________________________________\n",
            "Epoch 1/50\n",
            "4500/4500 - 16s - loss: 0.5699 - accuracy: 0.6969 - val_loss: 0.5282 - val_accuracy: 0.7329\n",
            "Epoch 2/50\n",
            "4500/4500 - 16s - loss: 0.5303 - accuracy: 0.7297 - val_loss: 0.5079 - val_accuracy: 0.7467\n",
            "Epoch 3/50\n",
            "4500/4500 - 15s - loss: 0.5151 - accuracy: 0.7410 - val_loss: 0.5068 - val_accuracy: 0.7483\n",
            "Epoch 4/50\n",
            "4500/4500 - 15s - loss: 0.5030 - accuracy: 0.7487 - val_loss: 0.5057 - val_accuracy: 0.7486\n",
            "Epoch 5/50\n",
            "4500/4500 - 16s - loss: 0.4952 - accuracy: 0.7543 - val_loss: 0.4995 - val_accuracy: 0.7517\n",
            "Epoch 6/50\n",
            "4500/4500 - 16s - loss: 0.4861 - accuracy: 0.7603 - val_loss: 0.4994 - val_accuracy: 0.7553\n",
            "Epoch 7/50\n",
            "4500/4500 - 16s - loss: 0.4810 - accuracy: 0.7644 - val_loss: 0.4988 - val_accuracy: 0.7536\n",
            "Epoch 8/50\n",
            "4500/4500 - 16s - loss: 0.4747 - accuracy: 0.7682 - val_loss: 0.4967 - val_accuracy: 0.7558\n",
            "Epoch 9/50\n",
            "4500/4500 - 16s - loss: 0.4709 - accuracy: 0.7695 - val_loss: 0.5032 - val_accuracy: 0.7538\n",
            "Epoch 10/50\n",
            "4500/4500 - 16s - loss: 0.4647 - accuracy: 0.7729 - val_loss: 0.5059 - val_accuracy: 0.7556\n",
            "Epoch 11/50\n",
            "4500/4500 - 15s - loss: 0.4632 - accuracy: 0.7759 - val_loss: 0.4996 - val_accuracy: 0.7555\n",
            "Epoch 12/50\n",
            "4500/4500 - 15s - loss: 0.4590 - accuracy: 0.7784 - val_loss: 0.5009 - val_accuracy: 0.7552\n",
            "Epoch 13/50\n",
            "4500/4500 - 16s - loss: 0.4571 - accuracy: 0.7786 - val_loss: 0.5041 - val_accuracy: 0.7542\n",
            "Epoch 14/50\n",
            "4500/4500 - 15s - loss: 0.4541 - accuracy: 0.7799 - val_loss: 0.5000 - val_accuracy: 0.7532\n",
            "Epoch 15/50\n",
            "4500/4500 - 15s - loss: 0.4519 - accuracy: 0.7824 - val_loss: 0.5001 - val_accuracy: 0.7543\n",
            "Epoch 16/50\n",
            "4500/4500 - 15s - loss: 0.4501 - accuracy: 0.7833 - val_loss: 0.5052 - val_accuracy: 0.7511\n",
            "Epoch 17/50\n",
            "4500/4500 - 15s - loss: 0.4491 - accuracy: 0.7840 - val_loss: 0.5013 - val_accuracy: 0.7564\n",
            "Epoch 18/50\n",
            "4500/4500 - 15s - loss: 0.4460 - accuracy: 0.7857 - val_loss: 0.5056 - val_accuracy: 0.7552\n",
            "Epoch 19/50\n",
            "4500/4500 - 16s - loss: 0.4474 - accuracy: 0.7844 - val_loss: 0.5034 - val_accuracy: 0.7529\n",
            "Epoch 20/50\n",
            "4500/4500 - 15s - loss: 0.4443 - accuracy: 0.7865 - val_loss: 0.5034 - val_accuracy: 0.7546\n",
            "Epoch 21/50\n",
            "4500/4500 - 16s - loss: 0.4416 - accuracy: 0.7890 - val_loss: 0.5041 - val_accuracy: 0.7549\n",
            "Epoch 22/50\n",
            "4500/4500 - 15s - loss: 0.4415 - accuracy: 0.7887 - val_loss: 0.5041 - val_accuracy: 0.7523\n",
            "Epoch 23/50\n",
            "4500/4500 - 15s - loss: 0.4401 - accuracy: 0.7880 - val_loss: 0.5050 - val_accuracy: 0.7519\n",
            "Epoch 24/50\n",
            "4500/4500 - 15s - loss: 0.4389 - accuracy: 0.7893 - val_loss: 0.5118 - val_accuracy: 0.7524\n",
            "Epoch 25/50\n",
            "4500/4500 - 15s - loss: 0.4390 - accuracy: 0.7906 - val_loss: 0.5123 - val_accuracy: 0.7529\n",
            "Epoch 26/50\n",
            "4500/4500 - 16s - loss: 0.4368 - accuracy: 0.7901 - val_loss: 0.5114 - val_accuracy: 0.7516\n",
            "Epoch 27/50\n",
            "4500/4500 - 16s - loss: 0.4367 - accuracy: 0.7915 - val_loss: 0.5152 - val_accuracy: 0.7527\n",
            "Epoch 28/50\n",
            "4500/4500 - 16s - loss: 0.4368 - accuracy: 0.7905 - val_loss: 0.5055 - val_accuracy: 0.7516\n",
            "Epoch 29/50\n",
            "4500/4500 - 16s - loss: 0.4358 - accuracy: 0.7924 - val_loss: 0.5136 - val_accuracy: 0.7517\n",
            "Epoch 30/50\n",
            "4500/4500 - 15s - loss: 0.4344 - accuracy: 0.7923 - val_loss: 0.5113 - val_accuracy: 0.7515\n",
            "Epoch 31/50\n",
            "4500/4500 - 15s - loss: 0.4335 - accuracy: 0.7926 - val_loss: 0.5171 - val_accuracy: 0.7511\n",
            "Epoch 32/50\n",
            "4500/4500 - 15s - loss: 0.4331 - accuracy: 0.7924 - val_loss: 0.5157 - val_accuracy: 0.7486\n",
            "Epoch 33/50\n",
            "4500/4500 - 15s - loss: 0.4329 - accuracy: 0.7929 - val_loss: 0.5107 - val_accuracy: 0.7491\n",
            "Epoch 34/50\n",
            "4500/4500 - 15s - loss: 0.4328 - accuracy: 0.7925 - val_loss: 0.5152 - val_accuracy: 0.7533\n",
            "Epoch 35/50\n",
            "4500/4500 - 16s - loss: 0.4322 - accuracy: 0.7937 - val_loss: 0.5117 - val_accuracy: 0.7524\n",
            "Epoch 36/50\n",
            "4500/4500 - 16s - loss: 0.4308 - accuracy: 0.7936 - val_loss: 0.5096 - val_accuracy: 0.7539\n",
            "Epoch 37/50\n",
            "4500/4500 - 15s - loss: 0.4311 - accuracy: 0.7950 - val_loss: 0.5182 - val_accuracy: 0.7523\n",
            "Epoch 38/50\n",
            "4500/4500 - 15s - loss: 0.4296 - accuracy: 0.7951 - val_loss: 0.5113 - val_accuracy: 0.7514\n",
            "Epoch 39/50\n",
            "4500/4500 - 15s - loss: 0.4312 - accuracy: 0.7945 - val_loss: 0.5132 - val_accuracy: 0.7533\n",
            "Epoch 40/50\n",
            "4500/4500 - 15s - loss: 0.4314 - accuracy: 0.7944 - val_loss: 0.5173 - val_accuracy: 0.7505\n",
            "Epoch 41/50\n",
            "4500/4500 - 15s - loss: 0.4284 - accuracy: 0.7954 - val_loss: 0.5143 - val_accuracy: 0.7516\n",
            "Epoch 42/50\n",
            "4500/4500 - 15s - loss: 0.4278 - accuracy: 0.7968 - val_loss: 0.5160 - val_accuracy: 0.7505\n",
            "Epoch 43/50\n",
            "4500/4500 - 15s - loss: 0.4296 - accuracy: 0.7955 - val_loss: 0.5179 - val_accuracy: 0.7480\n",
            "Epoch 44/50\n",
            "4500/4500 - 15s - loss: 0.4277 - accuracy: 0.7970 - val_loss: 0.5148 - val_accuracy: 0.7502\n",
            "Epoch 45/50\n",
            "4500/4500 - 15s - loss: 0.4294 - accuracy: 0.7957 - val_loss: 0.5171 - val_accuracy: 0.7492\n",
            "Epoch 46/50\n",
            "4500/4500 - 16s - loss: 0.4293 - accuracy: 0.7956 - val_loss: 0.5187 - val_accuracy: 0.7467\n",
            "Epoch 47/50\n",
            "4500/4500 - 16s - loss: 0.4279 - accuracy: 0.7966 - val_loss: 0.5198 - val_accuracy: 0.7516\n",
            "Epoch 48/50\n",
            "4500/4500 - 16s - loss: 0.4272 - accuracy: 0.7961 - val_loss: 0.5145 - val_accuracy: 0.7514\n",
            "Epoch 49/50\n",
            "4500/4500 - 15s - loss: 0.4257 - accuracy: 0.7969 - val_loss: 0.5130 - val_accuracy: 0.7527\n",
            "Epoch 50/50\n",
            "4500/4500 - 16s - loss: 0.4267 - accuracy: 0.7969 - val_loss: 0.5166 - val_accuracy: 0.7538\n",
            "Training Complete\n"
          ],
          "name": "stdout"
        }
      ]
    },
    {
      "cell_type": "code",
      "metadata": {
        "colab_type": "code",
        "id": "qxju4ItJKO8F",
        "colab": {
          "base_uri": "https://localhost:8080/",
          "height": 607
        },
        "outputId": "e89bc438-b634-461e-fa56-85d30426aa8d"
      },
      "source": [
        "import matplotlib.image  as mpimg\n",
        "import matplotlib.pyplot as plt\n",
        "\n",
        "#-----------------------------------------------------------\n",
        "# Retrieve a list of list results on training and test data\n",
        "# sets for each training epoch\n",
        "#-----------------------------------------------------------\n",
        "acc=history.history['accuracy']\n",
        "val_acc=history.history['val_accuracy']\n",
        "loss=history.history['loss']\n",
        "val_loss=history.history['val_loss']\n",
        "\n",
        "epochs=range(len(acc)) # Get number of epochs\n",
        "\n",
        "#------------------------------------------------\n",
        "# Plot training and validation accuracy per epoch\n",
        "#------------------------------------------------\n",
        "plt.plot(epochs, acc, 'r')\n",
        "plt.plot(epochs, val_acc, 'b')\n",
        "plt.title('Training and validation accuracy')\n",
        "plt.xlabel(\"Epochs\")\n",
        "plt.ylabel(\"Accuracy\")\n",
        "plt.legend([\"Accuracy\", \"Validation Accuracy\"])\n",
        "\n",
        "plt.figure()\n",
        "\n",
        "#------------------------------------------------\n",
        "# Plot training and validation loss per epoch\n",
        "#------------------------------------------------\n",
        "plt.plot(epochs, loss, 'r')\n",
        "plt.plot(epochs, val_loss, 'b')\n",
        "plt.title('Training and validation loss')\n",
        "plt.xlabel(\"Epochs\")\n",
        "plt.ylabel(\"Loss\")\n",
        "plt.legend([\"Loss\", \"Validation Loss\"])\n",
        "\n",
        "plt.figure()\n",
        "\n",
        "\n",
        "# Expected Output\n",
        "# A chart where the validation loss does not increase sharply!"
      ],
      "execution_count": null,
      "outputs": [
        {
          "output_type": "execute_result",
          "data": {
            "text/plain": [
              "<Figure size 432x288 with 0 Axes>"
            ]
          },
          "metadata": {
            "tags": []
          },
          "execution_count": 14
        },
        {
          "output_type": "display_data",
          "data": {
            "image/png": "[encoded data removed]",
            "text/plain": [
              "<Figure size 432x288 with 1 Axes>"
            ]
          },
          "metadata": {
            "tags": [],
            "needs_background": "light"
          }
        },
        {
          "output_type": "display_data",
          "data": {
            "image/png": "[encoded data removed]",
            "text/plain": [
              "<Figure size 432x288 with 1 Axes>"
            ]
          },
          "metadata": {
            "tags": [],
            "needs_background": "light"
          }
        },
        {
          "output_type": "display_data",
          "data": {
            "text/plain": [
              "<Figure size 432x288 with 0 Axes>"
            ]
          },
          "metadata": {
            "tags": []
          }
        }
      ]
    }
  ]
}