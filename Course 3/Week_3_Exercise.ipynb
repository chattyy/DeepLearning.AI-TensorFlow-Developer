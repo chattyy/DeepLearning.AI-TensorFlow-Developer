{
  "nbformat": 4,
  "nbformat_minor": 0,
  "metadata": {
    "accelerator": "GPU",
    "colab": {
      "name": "Week 3_Exercise.ipynb",
      "provenance": [],
      "toc_visible": true
    },
    "kernelspec": {
      "display_name": "Python 3",
      "language": "python",
      "name": "python3"
    },
    "language_info": {
      "codemirror_mode": {
        "name": "ipython",
        "version": 3
      },
      "file_extension": ".py",
      "mimetype": "text/x-python",
      "name": "python",
      "nbconvert_exporter": "python",
      "pygments_lexer": "ipython3",
      "version": "3.7.6"
    }
  },
  "cells": [
    {
      "cell_type": "code",
      "metadata": {
        "colab_type": "code",
        "id": "zX4Kg8DUTKWO",
        "colab": {}
      },
      "source": [
        "#@title Licensed under the Apache License, Version 2.0 (the \"License\");\n",
        "# you may not use this file except in compliance with the License.\n",
        "# You may obtain a copy of the License at\n",
        "#\n",
        "# https://www.apache.org/licenses/LICENSE-2.0\n",
        "#\n",
        "# Unless required by applicable law or agreed to in writing, software\n",
        "# distributed under the License is distributed on an \"AS IS\" BASIS,\n",
        "# WITHOUT WARRANTIES OR CONDITIONS OF ANY KIND, either express or implied.\n",
        "# See the License for the specific language governing permissions and\n",
        "# limitations under the License."
      ],
      "execution_count": 2,
      "outputs": []
    },
    {
      "cell_type": "markdown",
      "metadata": {
        "id": "QhfTz5sXkdG8",
        "colab_type": "text"
      },
      "source": [
        "<a href=\"https://colab.research.google.com/github/lmoroney/dlaicourse/blob/master/TensorFlow%20In%20Practice/Course%203%20-%20NLP/NLP%20Course%20-%20Week%203%20Exercise%20Answer.ipynb\" target=\"_parent\"><img src=\"https://colab.research.google.com/assets/colab-badge.svg\" alt=\"Open In Colab\"/></a>"
      ]
    },
    {
      "cell_type": "code",
      "metadata": {
        "colab_type": "code",
        "id": "hmA6EzkQJ5jt",
        "colab": {}
      },
      "source": [
        "import json\n",
        "import tensorflow as tf\n",
        "import csv\n",
        "import random\n",
        "import numpy as np\n",
        "\n",
        "from tensorflow.keras.preprocessing.text import Tokenizer\n",
        "from tensorflow.keras.preprocessing.sequence import pad_sequences\n",
        "from tensorflow.keras.utils import to_categorical\n",
        "from tensorflow.keras import regularizers\n",
        "\n",
        "\n",
        "embedding_dim = 100\n",
        "max_length = 16\n",
        "trunc_type='post'\n",
        "padding_type='post'\n",
        "oov_tok = \"<OOV>\"\n",
        "training_size=140000\n",
        "test_portion=.1\n",
        "\n",
        "corpus = []\n"
      ],
      "execution_count": 3,
      "outputs": []
    },
    {
      "cell_type": "code",
      "metadata": {
        "colab_type": "code",
        "id": "bM0l_dORKqE0",
        "colab": {
          "base_uri": "https://localhost:8080/",
          "height": 204
        },
        "outputId": "a00883cd-def2-40f5-93b0-07d3b72885c8"
      },
      "source": [
        "# Note that I cleaned the Stanford dataset to remove LATIN1 encoding to make it easier for Python CSV reader\n",
        "# You can do that yourself with:\n",
        "# iconv -f LATIN1 -t UTF8 training.1600000.processed.noemoticon.csv -o training_cleaned.csv\n",
        "# I then hosted it on my site to make it easier to use in this notebook\n",
        "\n",
        "!wget --no-check-certificate \\\n",
        "    https://storage.googleapis.com/laurencemoroney-blog.appspot.com/training_cleaned.csv \\\n",
        "    -O /tmp/training_cleaned.csv\n",
        "\n",
        "num_sentences = 0\n",
        "\n",
        "with open(\"/tmp/training_cleaned.csv\") as csvfile:\n",
        "    reader = csv.reader(csvfile, delimiter=',')\n",
        "    for row in reader:\n",
        "        list_item=[]\n",
        "        list_item.append(row[5])\n",
        "        this_label=row[0]\n",
        "        if this_label=='0':\n",
        "            list_item.append(0)\n",
        "        else:\n",
        "            list_item.append(1)\n",
        "        num_sentences = num_sentences + 1\n",
        "        corpus.append(list_item)\n"
      ],
      "execution_count": 4,
      "outputs": [
        {
          "output_type": "stream",
          "text": [
            "--2020-09-15 17:41:54--  https://storage.googleapis.com/laurencemoroney-blog.appspot.com/training_cleaned.csv\n",
            "Resolving storage.googleapis.com (storage.googleapis.com)... 74.125.28.128, 74.125.142.128, 74.125.195.128, ...\n",
            "Connecting to storage.googleapis.com (storage.googleapis.com)|74.125.28.128|:443... connected.\n",
            "HTTP request sent, awaiting response... 200 OK\n",
            "Length: 238942690 (228M) [application/octet-stream]\n",
            "Saving to: ‘/tmp/training_cleaned.csv’\n",
            "\n",
            "/tmp/training_clean 100%[===================>] 227.87M   144MB/s    in 1.6s    \n",
            "\n",
            "2020-09-15 17:41:56 (144 MB/s) - ‘/tmp/training_cleaned.csv’ saved [238942690/238942690]\n",
            "\n"
          ],
          "name": "stdout"
        }
      ]
    },
    {
      "cell_type": "code",
      "metadata": {
        "colab_type": "code",
        "id": "3kxblBUjEUX-",
        "colab": {
          "base_uri": "https://localhost:8080/",
          "height": 68
        },
        "outputId": "ebc43b7b-cb86-4ea3-b4c4-f7f57fd0d3b7"
      },
      "source": [
        "print(num_sentences)\n",
        "print(len(corpus))\n",
        "print(corpus[1])\n",
        "\n",
        "# Expected Output:\n",
        "# 1600000\n",
        "# 1600000\n",
        "# [\"is upset that he can't update his Facebook by texting it... and might cry as a result  School today also. Blah!\", 0]"
      ],
      "execution_count": 5,
      "outputs": [
        {
          "output_type": "stream",
          "text": [
            "1600000\n",
            "1600000\n",
            "[\"is upset that he can't update his Facebook by texting it... and might cry as a result  School today also. Blah!\", 0]\n"
          ],
          "name": "stdout"
        }
      ]
    },
    {
      "cell_type": "code",
      "metadata": {
        "colab_type": "code",
        "id": "ohOGz24lsNAD",
        "colab": {}
      },
      "source": [
        "sentences=[]\n",
        "labels=[]\n",
        "random.shuffle(corpus)\n",
        "for x in range(training_size):\n",
        "    sentences.append(corpus[x][0])\n",
        "    labels.append(corpus[x][1])\n",
        "\n",
        "\n",
        "tokenizer = Tokenizer()\n",
        "tokenizer.fit_on_texts(sentences)\n",
        "\n",
        "word_index = tokenizer.word_index\n",
        "vocab_size=len(word_index)\n",
        "\n",
        "sequences = tokenizer.texts_to_sequences(sentences)\n",
        "padded = pad_sequences(sequences, maxlen=max_length, padding=padding_type, truncating=trunc_type)\n",
        "\n",
        "split = int(test_portion * training_size)\n",
        "\n",
        "test_sequences = padded[0:split]\n",
        "training_sequences = padded[split:training_size]\n",
        "test_labels = labels[0:split]\n",
        "training_labels = labels[split:training_size]"
      ],
      "execution_count": 6,
      "outputs": []
    },
    {
      "cell_type": "code",
      "metadata": {
        "colab_type": "code",
        "id": "gIrtRem1En3N",
        "colab": {
          "base_uri": "https://localhost:8080/",
          "height": 51
        },
        "outputId": "a567b0f4-4741-4ff8-9d83-d1ecb11bdf0b"
      },
      "source": [
        "print(vocab_size)\n",
        "print(word_index['i'])\n",
        "# Expected Output\n",
        "# 138858\n",
        "# 1"
      ],
      "execution_count": 7,
      "outputs": [
        {
          "output_type": "stream",
          "text": [
            "125392\n",
            "1\n"
          ],
          "name": "stdout"
        }
      ]
    },
    {
      "cell_type": "code",
      "metadata": {
        "colab_type": "code",
        "id": "C1zdgJkusRh0",
        "colab": {
          "base_uri": "https://localhost:8080/",
          "height": 204
        },
        "outputId": "58cc875d-ede1-455a-e484-be96f334f590"
      },
      "source": [
        "# Note this is the 100 dimension version of GloVe from Stanford\n",
        "# I unzipped and hosted it on my site to make this notebook easier\n",
        "!wget --no-check-certificate \\\n",
        "    https://storage.googleapis.com/laurencemoroney-blog.appspot.com/glove.6B.100d.txt \\\n",
        "    -O /tmp/glove.6B.100d.txt\n",
        "embeddings_index = {};\n",
        "with open('/tmp/glove.6B.100d.txt') as f:\n",
        "    for line in f:\n",
        "        values = line.split();\n",
        "        word = values[0];\n",
        "        coefs = np.asarray(values[1:], dtype='float32');\n",
        "        embeddings_index[word] = coefs;\n",
        "\n",
        "embeddings_matrix = np.zeros((vocab_size+1, embedding_dim));\n",
        "for word, i in word_index.items():\n",
        "    embedding_vector = embeddings_index.get(word);\n",
        "    if embedding_vector is not None:\n",
        "        embeddings_matrix[i] = embedding_vector;"
      ],
      "execution_count": 8,
      "outputs": [
        {
          "output_type": "stream",
          "text": [
            "--2020-09-15 17:42:07--  https://storage.googleapis.com/laurencemoroney-blog.appspot.com/glove.6B.100d.txt\n",
            "Resolving storage.googleapis.com (storage.googleapis.com)... 74.125.142.128, 74.125.195.128, 74.125.20.128, ...\n",
            "Connecting to storage.googleapis.com (storage.googleapis.com)|74.125.142.128|:443... connected.\n",
            "HTTP request sent, awaiting response... 200 OK\n",
            "Length: 347116733 (331M) [text/plain]\n",
            "Saving to: ‘/tmp/glove.6B.100d.txt’\n",
            "\n",
            "/tmp/glove.6B.100d. 100%[===================>] 331.04M   192MB/s    in 1.7s    \n",
            "\n",
            "2020-09-15 17:42:09 (192 MB/s) - ‘/tmp/glove.6B.100d.txt’ saved [347116733/347116733]\n",
            "\n"
          ],
          "name": "stdout"
        }
      ]
    },
    {
      "cell_type": "code",
      "metadata": {
        "colab_type": "code",
        "id": "71NLk_lpFLNt",
        "colab": {
          "base_uri": "https://localhost:8080/",
          "height": 34
        },
        "outputId": "d314a042-455b-4fcf-9cff-6704d0f6a822"
      },
      "source": [
        "print(len(embeddings_matrix))\n",
        "# Expected Output\n",
        "# 138859"
      ],
      "execution_count": 9,
      "outputs": [
        {
          "output_type": "stream",
          "text": [
            "125393\n"
          ],
          "name": "stdout"
        }
      ]
    },
    {
      "cell_type": "code",
      "metadata": {
        "colab_type": "code",
        "id": "iKKvbuEBOGFz",
        "colab": {
          "base_uri": "https://localhost:8080/",
          "height": 1000
        },
        "outputId": "07d60a99-fdbe-40a2-e04e-d1c8e0cf9c84"
      },
      "source": [
        "model = tf.keras.Sequential([\n",
        "    tf.keras.layers.Embedding(vocab_size+1, embedding_dim, input_length=max_length, weights=[embeddings_matrix], trainable=False),\n",
        "    tf.keras.layers.Dropout(0.2),\n",
        "    tf.keras.layers.Conv1D(64, 5, activation='relu'),\n",
        "    tf.keras.layers.MaxPooling1D(pool_size=4),\n",
        "    tf.keras.layers.LSTM(64),\n",
        "    tf.keras.layers.Dense(512, activation='sigmoid'),\n",
        "    tf.keras.layers.Dense(1, activation='sigmoid')\n",
        "])\n",
        "model.compile(loss='binary_crossentropy',optimizer='adam',metrics=['accuracy'])\n",
        "model.summary()\n",
        "\n",
        "num_epochs = 50\n",
        "\n",
        "training_padded = np.array(training_sequences)\n",
        "training_labels = np.array(training_labels)\n",
        "testing_padded = np.array(test_sequences)\n",
        "testing_labels = np.array(test_labels)\n",
        "\n",
        "history = model.fit(training_padded, training_labels, epochs=num_epochs, validation_data=(testing_padded, testing_labels), verbose=2)\n",
        "\n",
        "print(\"Training Complete\")"
      ],
      "execution_count": 10,
      "outputs": [
        {
          "output_type": "stream",
          "text": [
            "Model: \"sequential\"\n",
            "_________________________________________________________________\n",
            "Layer (type)                 Output Shape              Param #   \n",
            "=================================================================\n",
            "embedding (Embedding)        (None, 16, 100)           12539300  \n",
            "_________________________________________________________________\n",
            "dropout (Dropout)            (None, 16, 100)           0         \n",
            "_________________________________________________________________\n",
            "conv1d (Conv1D)              (None, 12, 64)            32064     \n",
            "_________________________________________________________________\n",
            "max_pooling1d (MaxPooling1D) (None, 3, 64)             0         \n",
            "_________________________________________________________________\n",
            "lstm (LSTM)                  (None, 64)                33024     \n",
            "_________________________________________________________________\n",
            "dense (Dense)                (None, 512)               33280     \n",
            "_________________________________________________________________\n",
            "dense_1 (Dense)              (None, 1)                 513       \n",
            "=================================================================\n",
            "Total params: 12,638,181\n",
            "Trainable params: 98,881\n",
            "Non-trainable params: 12,539,300\n",
            "_________________________________________________________________\n",
            "Epoch 1/50\n",
            "3938/3938 - 17s - loss: 0.5740 - accuracy: 0.6931 - val_loss: 0.5351 - val_accuracy: 0.7271\n",
            "Epoch 2/50\n",
            "3938/3938 - 17s - loss: 0.5332 - accuracy: 0.7272 - val_loss: 0.5416 - val_accuracy: 0.7208\n",
            "Epoch 3/50\n",
            "3938/3938 - 16s - loss: 0.5179 - accuracy: 0.7389 - val_loss: 0.5208 - val_accuracy: 0.7386\n",
            "Epoch 4/50\n",
            "3938/3938 - 17s - loss: 0.5041 - accuracy: 0.7486 - val_loss: 0.5091 - val_accuracy: 0.7502\n",
            "Epoch 5/50\n",
            "3938/3938 - 17s - loss: 0.4948 - accuracy: 0.7558 - val_loss: 0.5079 - val_accuracy: 0.7489\n",
            "Epoch 6/50\n",
            "3938/3938 - 17s - loss: 0.4866 - accuracy: 0.7620 - val_loss: 0.5085 - val_accuracy: 0.7489\n",
            "Epoch 7/50\n",
            "3938/3938 - 17s - loss: 0.4806 - accuracy: 0.7651 - val_loss: 0.5073 - val_accuracy: 0.7509\n",
            "Epoch 8/50\n",
            "3938/3938 - 16s - loss: 0.4749 - accuracy: 0.7692 - val_loss: 0.5073 - val_accuracy: 0.7521\n",
            "Epoch 9/50\n",
            "3938/3938 - 16s - loss: 0.4688 - accuracy: 0.7726 - val_loss: 0.5147 - val_accuracy: 0.7527\n",
            "Epoch 10/50\n",
            "3938/3938 - 17s - loss: 0.4662 - accuracy: 0.7743 - val_loss: 0.5175 - val_accuracy: 0.7469\n",
            "Epoch 11/50\n",
            "3938/3938 - 17s - loss: 0.4611 - accuracy: 0.7763 - val_loss: 0.5132 - val_accuracy: 0.7474\n",
            "Epoch 12/50\n",
            "3938/3938 - 17s - loss: 0.4583 - accuracy: 0.7785 - val_loss: 0.5078 - val_accuracy: 0.7507\n",
            "Epoch 13/50\n",
            "3938/3938 - 16s - loss: 0.4550 - accuracy: 0.7814 - val_loss: 0.5176 - val_accuracy: 0.7486\n",
            "Epoch 14/50\n",
            "3938/3938 - 18s - loss: 0.4524 - accuracy: 0.7828 - val_loss: 0.5232 - val_accuracy: 0.7422\n",
            "Epoch 15/50\n",
            "3938/3938 - 17s - loss: 0.4498 - accuracy: 0.7840 - val_loss: 0.5312 - val_accuracy: 0.7484\n",
            "Epoch 16/50\n",
            "3938/3938 - 17s - loss: 0.4469 - accuracy: 0.7864 - val_loss: 0.5336 - val_accuracy: 0.7486\n",
            "Epoch 17/50\n",
            "3938/3938 - 16s - loss: 0.4463 - accuracy: 0.7855 - val_loss: 0.5197 - val_accuracy: 0.7472\n",
            "Epoch 18/50\n",
            "3938/3938 - 16s - loss: 0.4432 - accuracy: 0.7878 - val_loss: 0.5248 - val_accuracy: 0.7459\n",
            "Epoch 19/50\n",
            "3938/3938 - 16s - loss: 0.4407 - accuracy: 0.7894 - val_loss: 0.5191 - val_accuracy: 0.7476\n",
            "Epoch 20/50\n",
            "3938/3938 - 16s - loss: 0.4399 - accuracy: 0.7888 - val_loss: 0.5249 - val_accuracy: 0.7460\n",
            "Epoch 21/50\n",
            "3938/3938 - 17s - loss: 0.4386 - accuracy: 0.7903 - val_loss: 0.5204 - val_accuracy: 0.7499\n",
            "Epoch 22/50\n",
            "3938/3938 - 16s - loss: 0.4378 - accuracy: 0.7897 - val_loss: 0.5281 - val_accuracy: 0.7451\n",
            "Epoch 23/50\n",
            "3938/3938 - 16s - loss: 0.4349 - accuracy: 0.7941 - val_loss: 0.5349 - val_accuracy: 0.7444\n",
            "Epoch 24/50\n",
            "3938/3938 - 16s - loss: 0.4330 - accuracy: 0.7932 - val_loss: 0.5236 - val_accuracy: 0.7437\n",
            "Epoch 25/50\n",
            "3938/3938 - 16s - loss: 0.4323 - accuracy: 0.7947 - val_loss: 0.5199 - val_accuracy: 0.7464\n",
            "Epoch 26/50\n",
            "3938/3938 - 17s - loss: 0.4328 - accuracy: 0.7927 - val_loss: 0.5204 - val_accuracy: 0.7461\n",
            "Epoch 27/50\n",
            "3938/3938 - 16s - loss: 0.4298 - accuracy: 0.7960 - val_loss: 0.5266 - val_accuracy: 0.7471\n",
            "Epoch 28/50\n",
            "3938/3938 - 16s - loss: 0.4303 - accuracy: 0.7941 - val_loss: 0.5314 - val_accuracy: 0.7459\n",
            "Epoch 29/50\n",
            "3938/3938 - 17s - loss: 0.4288 - accuracy: 0.7955 - val_loss: 0.5263 - val_accuracy: 0.7449\n",
            "Epoch 30/50\n",
            "3938/3938 - 16s - loss: 0.4303 - accuracy: 0.7951 - val_loss: 0.5334 - val_accuracy: 0.7449\n",
            "Epoch 31/50\n",
            "3938/3938 - 17s - loss: 0.4276 - accuracy: 0.7967 - val_loss: 0.5289 - val_accuracy: 0.7462\n",
            "Epoch 32/50\n",
            "3938/3938 - 16s - loss: 0.4276 - accuracy: 0.7961 - val_loss: 0.5280 - val_accuracy: 0.7441\n",
            "Epoch 33/50\n",
            "3938/3938 - 17s - loss: 0.4265 - accuracy: 0.7978 - val_loss: 0.5255 - val_accuracy: 0.7475\n",
            "Epoch 34/50\n",
            "3938/3938 - 16s - loss: 0.4255 - accuracy: 0.7981 - val_loss: 0.5382 - val_accuracy: 0.7461\n",
            "Epoch 35/50\n",
            "3938/3938 - 16s - loss: 0.4269 - accuracy: 0.7968 - val_loss: 0.5275 - val_accuracy: 0.7463\n",
            "Epoch 36/50\n",
            "3938/3938 - 17s - loss: 0.4254 - accuracy: 0.7972 - val_loss: 0.5351 - val_accuracy: 0.7380\n",
            "Epoch 37/50\n",
            "3938/3938 - 16s - loss: 0.4235 - accuracy: 0.7980 - val_loss: 0.5377 - val_accuracy: 0.7438\n",
            "Epoch 38/50\n",
            "3938/3938 - 16s - loss: 0.4252 - accuracy: 0.7977 - val_loss: 0.5368 - val_accuracy: 0.7449\n",
            "Epoch 39/50\n",
            "3938/3938 - 16s - loss: 0.4231 - accuracy: 0.7996 - val_loss: 0.5373 - val_accuracy: 0.7425\n",
            "Epoch 40/50\n",
            "3938/3938 - 16s - loss: 0.4236 - accuracy: 0.7997 - val_loss: 0.5403 - val_accuracy: 0.7391\n",
            "Epoch 41/50\n",
            "3938/3938 - 17s - loss: 0.4229 - accuracy: 0.8000 - val_loss: 0.5319 - val_accuracy: 0.7391\n",
            "Epoch 42/50\n",
            "3938/3938 - 16s - loss: 0.4224 - accuracy: 0.7992 - val_loss: 0.5453 - val_accuracy: 0.7424\n",
            "Epoch 43/50\n",
            "3938/3938 - 16s - loss: 0.4205 - accuracy: 0.8010 - val_loss: 0.5348 - val_accuracy: 0.7449\n",
            "Epoch 44/50\n",
            "3938/3938 - 16s - loss: 0.4221 - accuracy: 0.7993 - val_loss: 0.5288 - val_accuracy: 0.7433\n",
            "Epoch 45/50\n",
            "3938/3938 - 17s - loss: 0.4207 - accuracy: 0.8000 - val_loss: 0.5428 - val_accuracy: 0.7438\n",
            "Epoch 46/50\n",
            "3938/3938 - 16s - loss: 0.4204 - accuracy: 0.8005 - val_loss: 0.5341 - val_accuracy: 0.7458\n",
            "Epoch 47/50\n",
            "3938/3938 - 17s - loss: 0.4198 - accuracy: 0.8022 - val_loss: 0.5378 - val_accuracy: 0.7454\n",
            "Epoch 48/50\n",
            "3938/3938 - 16s - loss: 0.4199 - accuracy: 0.8014 - val_loss: 0.5333 - val_accuracy: 0.7450\n",
            "Epoch 49/50\n",
            "3938/3938 - 16s - loss: 0.4187 - accuracy: 0.8010 - val_loss: 0.5432 - val_accuracy: 0.7438\n",
            "Epoch 50/50\n",
            "3938/3938 - 16s - loss: 0.4192 - accuracy: 0.8014 - val_loss: 0.5309 - val_accuracy: 0.7441\n",
            "Training Complete\n"
          ],
          "name": "stdout"
        }
      ]
    },
    {
      "cell_type": "code",
      "metadata": {
        "colab_type": "code",
        "id": "qxju4ItJKO8F",
        "colab": {
          "base_uri": "https://localhost:8080/",
          "height": 607
        },
        "outputId": "e913ff4b-b009-42fc-c454-33e482ffe76f"
      },
      "source": [
        "import matplotlib.image  as mpimg\n",
        "import matplotlib.pyplot as plt\n",
        "\n",
        "#-----------------------------------------------------------\n",
        "# Retrieve a list of list results on training and test data\n",
        "# sets for each training epoch\n",
        "#-----------------------------------------------------------\n",
        "acc=history.history['accuracy']\n",
        "val_acc=history.history['val_accuracy']\n",
        "loss=history.history['loss']\n",
        "val_loss=history.history['val_loss']\n",
        "\n",
        "epochs=range(len(acc)) # Get number of epochs\n",
        "\n",
        "#------------------------------------------------\n",
        "# Plot training and validation accuracy per epoch\n",
        "#------------------------------------------------\n",
        "plt.plot(epochs, acc, 'r')\n",
        "plt.plot(epochs, val_acc, 'b')\n",
        "plt.title('Training and validation accuracy')\n",
        "plt.xlabel(\"Epochs\")\n",
        "plt.ylabel(\"Accuracy\")\n",
        "plt.legend([\"Accuracy\", \"Validation Accuracy\"])\n",
        "\n",
        "plt.figure()\n",
        "\n",
        "#------------------------------------------------\n",
        "# Plot training and validation loss per epoch\n",
        "#------------------------------------------------\n",
        "plt.plot(epochs, loss, 'r')\n",
        "plt.plot(epochs, val_loss, 'b')\n",
        "plt.title('Training and validation loss')\n",
        "plt.xlabel(\"Epochs\")\n",
        "plt.ylabel(\"Loss\")\n",
        "plt.legend([\"Loss\", \"Validation Loss\"])\n",
        "\n",
        "plt.figure()\n",
        "\n",
        "\n",
        "# Expected Output\n",
        "# A chart where the validation loss does not increase sharply!"
      ],
      "execution_count": 11,
      "outputs": [
        {
          "output_type": "execute_result",
          "data": {
            "text/plain": [
              "<Figure size 432x288 with 0 Axes>"
            ]
          },
          "metadata": {
            "tags": []
          },
          "execution_count": 11
        },
        {
          "output_type": "display_data",
          "data": {
            "image/png": "[encoded data removed]",
            "text/plain": [
              "<Figure size 432x288 with 1 Axes>"
            ]
          },
          "metadata": {
            "tags": [],
            "needs_background": "light"
          }
        },
        {
          "output_type": "display_data",
          "data": {
            "image/png": "[encoded data removed]",
            "text/plain": [
              "<Figure size 432x288 with 1 Axes>"
            ]
          },
          "metadata": {
            "tags": [],
            "needs_background": "light"
          }
        },
        {
          "output_type": "display_data",
          "data": {
            "text/plain": [
              "<Figure size 432x288 with 0 Axes>"
            ]
          },
          "metadata": {
            "tags": []
          }
        }
      ]
    },
    {
      "cell_type": "code",
      "metadata": {
        "id": "esYQYZBe0rHv",
        "colab_type": "code",
        "colab": {}
      },
      "source": [
        ""
      ],
      "execution_count": 12,
      "outputs": []
    }
  ]
}